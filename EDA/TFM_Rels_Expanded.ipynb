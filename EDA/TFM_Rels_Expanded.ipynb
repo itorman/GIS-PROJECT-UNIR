{
 "cells": [
  {
   "cell_type": "code",
   "execution_count": 32,
   "id": "93cbe78d-ede1-496a-bf8b-17996df44094",
   "metadata": {},
   "outputs": [],
   "source": [
    "import pandas as pd\n",
    "import json\n",
    "\n",
    "# Leer el archivo desde la ruta\n",
    "archivo = \"/Users/severinodonate/Downloads/planet_osm_rels_COMPLETO.csv\"\n",
    "df_rels = pd.read_csv(archivo, sep=\",\", quotechar='\"')\n",
    "\n",
    "# Convertir la columna 'tags' (en formato JSON) a diccionario Python\n",
    "df_rels['tags_dict'] = df_rels['tags'].apply(lambda x: json.loads(x) if pd.notna(x) else {})\n",
    "\n",
    "# Expandir los tags\n",
    "tags_expandidos = pd.json_normalize(df_rels['tags_dict'])\n",
    "\n",
    "# Unir al dataframe original sin perder 'tags'\n",
    "df_rels_expandido = pd.concat([df_rels.drop(columns=['tags_dict']), tags_expandidos], axis=1)\n",
    "\n",
    "# Guardar el archivo expandido\n",
    "df_rels_expandido.to_csv(\"/Users/severinodonate/Downloads/planet_osm_rels_expandido.csv\", index=False, sep=';', quoting=1)\n"
   ]
  },
  {
   "cell_type": "code",
   "execution_count": 33,
   "id": "f99eafd1-7b03-4ba1-abf7-1798cda3ae34",
   "metadata": {},
   "outputs": [],
   "source": [
    "# Número total de filas del dataset\n",
    "total_filas = len(df_rels_expandido)\n",
    "\n",
    "# Contar valores no nulos por columna\n",
    "resumen = (\n",
    "    df_rels_expandido.notna()\n",
    "    .sum()\n",
    "    .reset_index()\n",
    "    .rename(columns={\"index\": \"variable\", 0: \"valores\"})\n",
    ")\n",
    "\n",
    "# Calcular el porcentaje de cobertura por variable\n",
    "resumen[\"porcentaje\"] = (resumen[\"valores\"] / total_filas * 100).round(2)\n",
    "\n",
    "# Ordenar de mayor a menor cobertura\n",
    "resumen = resumen.sort_values(by=\"porcentaje\", ascending=False).reset_index(drop=True)\n",
    "\n",
    "# Guardar el resumen como CSV\n",
    "resumen.to_csv(\"/Users/severinodonate/Downloads/resumen_variables_rels.csv\", index=False, sep=';')\n"
   ]
  },
  {
   "cell_type": "code",
   "execution_count": null,
   "id": "876bde58-74c9-4287-b196-54309251e9b6",
   "metadata": {},
   "outputs": [],
   "source": []
  }
 ],
 "metadata": {
  "kernelspec": {
   "display_name": "Python 3 (ipykernel)",
   "language": "python",
   "name": "python3"
  },
  "language_info": {
   "codemirror_mode": {
    "name": "ipython",
    "version": 3
   },
   "file_extension": ".py",
   "mimetype": "text/x-python",
   "name": "python",
   "nbconvert_exporter": "python",
   "pygments_lexer": "ipython3",
   "version": "3.9.13"
  }
 },
 "nbformat": 4,
 "nbformat_minor": 5
}
